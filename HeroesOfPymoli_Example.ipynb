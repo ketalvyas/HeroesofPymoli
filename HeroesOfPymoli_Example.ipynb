{
 "cells": [
  {
   "cell_type": "markdown",
   "metadata": {},
   "source": [
    "# Heroes Of Pymoli Data Analysis\n",
    "* Of the 1163 active players, the vast majority are male (82%). There also exists, a smaller, but notable proportion of female players (16%).\n",
    "\n",
    "* Our peak age demographic falls between 20-24 (42%) with secondary groups falling between 15-19 (17.80%) and 25-29 (15.48%).\n",
    "\n",
    "* Our players are putting in significant cash during the lifetime of their gameplay. Across all major age and gender demographics, the average purchase for a user is roughly $491.   \n",
    "-----"
   ]
  },
  {
   "cell_type": "code",
   "execution_count": 2,
   "metadata": {},
   "outputs": [],
   "source": [
    "import pandas as pd\n",
    "import numpy\n"
   ]
  },
  {
   "cell_type": "markdown",
   "metadata": {},
   "source": [
    "## Player Count"
   ]
  },
  {
   "cell_type": "code",
   "execution_count": 30,
   "metadata": {},
   "outputs": [
    {
     "name": "stdout",
     "output_type": "stream",
     "text": [
      "   Total Players\n",
      "0            573\n"
     ]
    }
   ],
   "source": [
    "file = 'purchase_data.json'\n",
    "\n",
    "df = pd.read_json(file)\n",
    "sn_count=len(df[\"SN\"].value_counts())\n",
    "total_players=pd.DataFrame([sn_count],columns=[\"Total Players\"])\n",
    "print(total_players)\n",
    "\n",
    "\n",
    "\n",
    "\n"
   ]
  },
  {
   "cell_type": "markdown",
   "metadata": {},
   "source": [
    "## Purchasing Analysis (Total)"
   ]
  },
  {
   "cell_type": "code",
   "execution_count": 35,
   "metadata": {
    "scrolled": true
   },
   "outputs": [
    {
     "name": "stdout",
     "output_type": "stream",
     "text": [
      "Purchasing Analyis-Total\n",
      "The number of unique items was 183.\n",
      "The total revenue was $2286.33.\n",
      "The purchasing amount was $780.\n"
     ]
    }
   ],
   "source": [
    "unique_things=len(df[\"Item ID\"].value_counts())\n",
    "total_sales=round(df[\"Price\"].sum(),2)\n",
    "mean_price=round(df[\"Price\"].mean(),2)\n",
    "purchase_amount=df[\"Price\"].count()\n",
    "print(\"Purchasing Analyis-Total\")\n",
    "print(\"The number of unique items was \" + str(unique_things) + \".\")\n",
    "print(\"The total revenue was $\"+str(total_sales)+\".\")\n",
    "print(\"The purchasing amount was $\"+str(purchase_amount)+\".\")"
   ]
  },
  {
   "cell_type": "markdown",
   "metadata": {},
   "source": [
    "## Gender Demographics"
   ]
  },
  {
   "cell_type": "code",
   "execution_count": 26,
   "metadata": {},
   "outputs": [],
   "source": [
    "\n"
   ]
  },
  {
   "cell_type": "markdown",
   "metadata": {},
   "source": [
    "\n",
    "## Purchasing Analysis (Gender)"
   ]
  },
  {
   "cell_type": "code",
   "execution_count": 27,
   "metadata": {},
   "outputs": [],
   "source": [
    "\n"
   ]
  },
  {
   "cell_type": "markdown",
   "metadata": {},
   "source": [
    "## Age Demographics"
   ]
  },
  {
   "cell_type": "code",
   "execution_count": 61,
   "metadata": {},
   "outputs": [
    {
     "name": "stdout",
     "output_type": "stream",
     "text": [
      "There were 465 males, 100 females, and 8 other (non-disclosed) players.\n",
      "There were 81.15 % male, 17.45 % female, and 1.4000000000000001 % other (non-disclosed) of total players, respectively.\n"
     ]
    }
   ],
   "source": [
    "players_df = df.drop_duplicates(['SN'], keep ='last')\n",
    "players_count=players_df.count()\n",
    "# Determine the number of male, female, and other players\n",
    "malePlayer_df=players_df.loc[players_df[\"Gender\"]==\"Male\"]\n",
    "malePlayers=len(malePlayer_df)\n",
    "femalePlayer_df=players_df.loc[players_df[\"Gender\"]==\"Female\"]\n",
    "femalePlayers=len(femalePlayer_df)\n",
    "otherPlayer_df=players_df.loc[players_df[\"Gender\"]==\"Other / Non-Disclosed\"]\n",
    "otherPlayers=len(otherPlayer_df)\n",
    "\n",
    "print(\"There were\",malePlayers,\"males,\",femalePlayers,\"females, and\",otherPlayers,\"other (non-disclosed) players.\")\n",
    "print(\"There were\",str(100*round(malePlayers/sn_count,4)),\"% male,\",str(100*round(femalePlayers/sn_count,4)),\"% female, and\",str(100*round(otherPlayers/sn_count,4)),\"% other (non-disclosed) of total players, respectively.\")\n",
    "\n",
    "      \n",
    "      "
   ]
  },
  {
   "cell_type": "markdown",
   "metadata": {},
   "source": [
    "## Purchasing Analysis (Age)"
   ]
  },
  {
   "cell_type": "code",
   "execution_count": 67,
   "metadata": {},
   "outputs": [
    {
     "name": "stdout",
     "output_type": "stream",
     "text": [
      "----------------------------\n",
      "PURCHASING ANALYSIS (GENDER)\n",
      "The total purchases made by male players were 633.\n",
      "The average purchase price for males was $2.95.\n",
      "The total value purchased by males was $1867.68.\n",
      "The average male players bought a total of $465.\n",
      "\n",
      "The total purchases made by female players were 136.\n",
      "The average purchase price for males was $2.82.\n",
      "The total value purchased by males was $382.91.\n",
      "The average male players bought a total of $100.\n",
      "\n",
      "The total purchases made by other/non-disclosed players were 11.\n",
      "The average purchase price for others was $3.25.\n",
      "The total value purchased by others was $35.74.\n",
      "The average other players bought a total of $8.\n"
     ]
    }
   ],
   "source": [
    "male_df=df.loc[df[\"Gender\"]==\"Male\"]\n",
    "male_purchase_count=male_df[\"Item ID\"].count()\n",
    "male_df=df.loc[df[\"Gender\"]==\"Male\"]\n",
    "male_mean_price=round(male_df[\"Price\"].mean(),2)\n",
    "male_total_price=round(male_df[\"Price\"].sum(),2)\n",
    "male_player_df=players_df.loc[players_df[\"Gender\"]==\"Male\"]\n",
    "male_players=len(male_player_df)\n",
    "normal_male_total_price=round(male_total_price/male_players,2)\n",
    "print(\"----------------------------\")\n",
    "print(\"PURCHASING ANALYSIS (GENDER)\")\n",
    "print(\"The total purchases made by male players were \" + str(male_purchase_count) + \".\")\n",
    "print(\"The average purchase price for males was $\"+str(male_mean_price)+\".\")\n",
    "print(\"The total value purchased by males was $\"+str(male_total_price)+\".\")\n",
    "print(\"The average male players bought a total of $\"+str(male_players)+\".\\n\")\n",
    "\n",
    "\n",
    "female_df=df.loc[df[\"Gender\"]==\"Female\"]\n",
    "female_purchase_count=female_df[\"Item ID\"].count()\n",
    "female_df=df.loc[df[\"Gender\"]==\"Female\"]\n",
    "female_mean_price=round(female_df[\"Price\"].mean(),2)\n",
    "female_total_price=round(female_df[\"Price\"].sum(),2)\n",
    "female_player_df=players_df.loc[players_df[\"Gender\"]==\"Female\"]\n",
    "female_players=len(female_player_df)\n",
    "normal_female_total_price=round(female_total_price/female_players,2)\n",
    "print(\"The total purchases made by female players were \" + str(female_purchase_count) + \".\")\n",
    "print(\"The average purchase price for males was $\"+str(female_mean_price)+\".\")\n",
    "print(\"The total value purchased by males was $\"+str(female_total_price)+\".\")\n",
    "print(\"The average male players bought a total of $\"+str(female_players)+\".\\n\")\n",
    "\n",
    "\n",
    "other_df=df.loc[df[\"Gender\"]==\"Other / Non-Disclosed\"]\n",
    "other_purchase_count=other_df[\"Item ID\"].count()\n",
    "other_df=df.loc[df[\"Gender\"]==\"Other / Non-Disclosed\"]\n",
    "other_mean_price=round(other_df[\"Price\"].mean(),2)\n",
    "other_total_price=round(other_df[\"Price\"].sum(),2)\n",
    "other_player_df=players_df.loc[players_df[\"Gender\"]==\"Other / Non-Disclosed\"]\n",
    "other_players=len(other_player_df)\n",
    "normal_other_total_price=round(other_total_price/other_players,2)\n",
    "print(\"The total purchases made by other/non-disclosed players were \" + str(other_purchase_count) + \".\")\n",
    "print(\"The average purchase price for others was $\"+str(other_mean_price)+\".\")\n",
    "print(\"The total value purchased by others was $\"+str(other_total_price)+\".\")\n",
    "print(\"The average other players bought a total of $\"+str(other_players)+\".\")\n",
    "\n"
   ]
  },
  {
   "cell_type": "markdown",
   "metadata": {},
   "source": [
    "## Top Spenders"
   ]
  },
  {
   "cell_type": "code",
   "execution_count": 15,
   "metadata": {},
   "outputs": [
    {
     "name": "stderr",
     "output_type": "stream",
     "text": [
      "C:\\ProgramData\\Anaconda3\\lib\\site-packages\\ipykernel_launcher.py:6: SettingWithCopyWarning: \n",
      "A value is trying to be set on a copy of a slice from a DataFrame.\n",
      "Try using .loc[row_indexer,col_indexer] = value instead\n",
      "\n",
      "See the caveats in the documentation: http://pandas.pydata.org/pandas-docs/stable/indexing.html#indexing-view-versus-copy\n",
      "  \n"
     ]
    },
    {
     "data": {
      "text/html": [
       "<div>\n",
       "<style scoped>\n",
       "    .dataframe tbody tr th:only-of-type {\n",
       "        vertical-align: middle;\n",
       "    }\n",
       "\n",
       "    .dataframe tbody tr th {\n",
       "        vertical-align: top;\n",
       "    }\n",
       "\n",
       "    .dataframe thead th {\n",
       "        text-align: right;\n",
       "    }\n",
       "</style>\n",
       "<table border=\"1\" class=\"dataframe\">\n",
       "  <thead>\n",
       "    <tr style=\"text-align: right;\">\n",
       "      <th></th>\n",
       "      <th>Purchase Count</th>\n",
       "      <th>Average Price ($)</th>\n",
       "      <th>Purchase Value ($)</th>\n",
       "      <th>Normalized Price ($)</th>\n",
       "    </tr>\n",
       "    <tr>\n",
       "      <th>Age Range</th>\n",
       "      <th></th>\n",
       "      <th></th>\n",
       "      <th></th>\n",
       "      <th></th>\n",
       "    </tr>\n",
       "  </thead>\n",
       "  <tbody>\n",
       "    <tr>\n",
       "      <th>10 and younger</th>\n",
       "      <td>78</td>\n",
       "      <td>2.87</td>\n",
       "      <td>224.15</td>\n",
       "      <td>2.84</td>\n",
       "    </tr>\n",
       "    <tr>\n",
       "      <th>11 to 15</th>\n",
       "      <td>184</td>\n",
       "      <td>2.87</td>\n",
       "      <td>528.74</td>\n",
       "      <td>2.86</td>\n",
       "    </tr>\n",
       "    <tr>\n",
       "      <th>16 to 20</th>\n",
       "      <td>305</td>\n",
       "      <td>2.96</td>\n",
       "      <td>902.61</td>\n",
       "      <td>2.90</td>\n",
       "    </tr>\n",
       "    <tr>\n",
       "      <th>21 to 25</th>\n",
       "      <td>76</td>\n",
       "      <td>2.89</td>\n",
       "      <td>219.82</td>\n",
       "      <td>2.90</td>\n",
       "    </tr>\n",
       "    <tr>\n",
       "      <th>30 to 35</th>\n",
       "      <td>58</td>\n",
       "      <td>3.07</td>\n",
       "      <td>178.26</td>\n",
       "      <td>2.99</td>\n",
       "    </tr>\n",
       "    <tr>\n",
       "      <th>35 to 40</th>\n",
       "      <td>44</td>\n",
       "      <td>2.90</td>\n",
       "      <td>127.49</td>\n",
       "      <td>2.74</td>\n",
       "    </tr>\n",
       "    <tr>\n",
       "      <th>41 and older</th>\n",
       "      <td>3</td>\n",
       "      <td>2.88</td>\n",
       "      <td>8.64</td>\n",
       "      <td>2.88</td>\n",
       "    </tr>\n",
       "  </tbody>\n",
       "</table>\n",
       "</div>"
      ],
      "text/plain": [
       "                Purchase Count  Average Price ($)  Purchase Value ($)  \\\n",
       "Age Range                                                               \n",
       "10 and younger              78               2.87              224.15   \n",
       "11 to 15                   184               2.87              528.74   \n",
       "16 to 20                   305               2.96              902.61   \n",
       "21 to 25                    76               2.89              219.82   \n",
       "30 to 35                    58               3.07              178.26   \n",
       "35 to 40                    44               2.90              127.49   \n",
       "41 and older                 3               2.88                8.64   \n",
       "\n",
       "                Normalized Price ($)  \n",
       "Age Range                             \n",
       "10 and younger                  2.84  \n",
       "11 to 15                        2.86  \n",
       "16 to 20                        2.90  \n",
       "21 to 25                        2.90  \n",
       "30 to 35                        2.99  \n",
       "35 to 40                        2.74  \n",
       "41 and older                    2.88  "
      ]
     },
     "execution_count": 15,
     "metadata": {},
     "output_type": "execute_result"
    }
   ],
   "source": [
    "bins=[10,15,20,25,30,35,40,120]\n",
    "group_labels=[\"10 and younger\", \"11 to 15\", \"16 to 20\", \"21 to 25\", \"30 to 35\", \"35 to 40\", \"41 and older\"]\n",
    "\n",
    "\n",
    "df[\"Age Range\"]=pd.cut(df[\"Age\"],bins,labels=group_labels)\n",
    "players_df[\"Age Range\"]=pd.cut(df[\"Age\"],bins,labels=group_labels)\n",
    "obj1=df.groupby(\"Age Range\")\n",
    "\n",
    "count_in_obj1=obj1[\"SN\"].count()\n",
    "count_table=pd.DataFrame({\"Purchase Count\":count_in_obj1})\n",
    "\n",
    "avgprice_in_obj1=round(obj1[\"Price\"].mean(),2)\n",
    "avgprice_table=pd.DataFrame({\"Average Price ($)\":avgprice_in_obj1})\n",
    "\n",
    "totprice_in_obj1=obj1[\"Price\"].sum()\n",
    "totprice_table=pd.DataFrame({\"Purchase Value ($)\":totprice_in_obj1})\n",
    "\n",
    "age_df=pd.merge(count_table,avgprice_table,left_index=True,right_index=True).merge(totprice_table,left_index=True,\n",
    "            right_index=True)\n",
    "\n",
    "objAge=players_df.groupby(\"Age Range\")\n",
    "\n",
    "count_in_objAge=objAge[\"Age\"].count()\n",
    "player_count_table=pd.DataFrame({\"Purchase Count\":count_in_objAge})\n",
    "\n",
    "totprice_in_objage=objAge[\"Price\"].sum()\n",
    "player_totprice_table=pd.DataFrame({\"Purchase Value ($)\":totprice_in_objage})\n",
    "\n",
    "age_df[\"Normalized Price ($)\"]=round((player_totprice_table[\"Purchase Value ($)\"]/\n",
    "                                             player_count_table[\"Purchase Count\"]),2)\n",
    "age_df"
   ]
  },
  {
   "cell_type": "markdown",
   "metadata": {},
   "source": [
    "## Most Popular Items"
   ]
  },
  {
   "cell_type": "code",
   "execution_count": 20,
   "metadata": {},
   "outputs": [
    {
     "name": "stdout",
     "output_type": "stream",
     "text": [
      "----------------------------------------------------------------------\n",
      "TOP SPENDERS\n"
     ]
    },
    {
     "data": {
      "text/html": [
       "<div>\n",
       "<style scoped>\n",
       "    .dataframe tbody tr th:only-of-type {\n",
       "        vertical-align: middle;\n",
       "    }\n",
       "\n",
       "    .dataframe tbody tr th {\n",
       "        vertical-align: top;\n",
       "    }\n",
       "\n",
       "    .dataframe thead th {\n",
       "        text-align: right;\n",
       "    }\n",
       "</style>\n",
       "<table border=\"1\" class=\"dataframe\">\n",
       "  <thead>\n",
       "    <tr style=\"text-align: right;\">\n",
       "      <th></th>\n",
       "      <th>Purchase Count</th>\n",
       "      <th>Average Price ($)</th>\n",
       "      <th>Total Purchase Value ($)</th>\n",
       "    </tr>\n",
       "    <tr>\n",
       "      <th>SN</th>\n",
       "      <th></th>\n",
       "      <th></th>\n",
       "      <th></th>\n",
       "    </tr>\n",
       "  </thead>\n",
       "  <tbody>\n",
       "    <tr>\n",
       "      <th>Undirrala66</th>\n",
       "      <td>5</td>\n",
       "      <td>3.41</td>\n",
       "      <td>17.06</td>\n",
       "    </tr>\n",
       "    <tr>\n",
       "      <th>Saedue76</th>\n",
       "      <td>4</td>\n",
       "      <td>3.39</td>\n",
       "      <td>13.56</td>\n",
       "    </tr>\n",
       "    <tr>\n",
       "      <th>Mindimnya67</th>\n",
       "      <td>4</td>\n",
       "      <td>3.18</td>\n",
       "      <td>12.74</td>\n",
       "    </tr>\n",
       "    <tr>\n",
       "      <th>Haellysu29</th>\n",
       "      <td>3</td>\n",
       "      <td>4.24</td>\n",
       "      <td>12.73</td>\n",
       "    </tr>\n",
       "    <tr>\n",
       "      <th>Eoda93</th>\n",
       "      <td>3</td>\n",
       "      <td>3.86</td>\n",
       "      <td>11.58</td>\n",
       "    </tr>\n",
       "  </tbody>\n",
       "</table>\n",
       "</div>"
      ],
      "text/plain": [
       "             Purchase Count  Average Price ($)  Total Purchase Value ($)\n",
       "SN                                                                      \n",
       "Undirrala66               5               3.41                     17.06\n",
       "Saedue76                  4               3.39                     13.56\n",
       "Mindimnya67               4               3.18                     12.74\n",
       "Haellysu29                3               4.24                     12.73\n",
       "Eoda93                    3               3.86                     11.58"
      ]
     },
     "execution_count": 20,
     "metadata": {},
     "output_type": "execute_result"
    }
   ],
   "source": [
    "objSN=df.groupby(\"SN\")\n",
    "\n",
    "count_in_objSN=objSN[\"Age\"].count()\n",
    "SN_count_table=pd.DataFrame({\"Purchase Count\":count_in_objSN})\n",
    "\n",
    "average_price_in_objSN=round(objSN[\"Price\"].mean(),2)\n",
    "SN_average_price_table=pd.DataFrame({\"Average Price ($)\":average_price_in_objSN})\n",
    "\n",
    "totalprice_in_objSN=objSN[\"Price\"].sum()\n",
    "SN_total_price_table=pd.DataFrame({\"Total Purchase Value ($)\":totalprice_in_objSN})\n",
    "\n",
    "SN_df=pd.merge(SN_count_table,SN_average_price_table,left_index=True,right_index=True).merge(\n",
    "    SN_total_price_table,left_index=True,right_index=True)\n",
    "\n",
    "sorted_SN=SN_df.sort_values(by=\"Total Purchase Value ($)\",ascending=False)\n",
    "\n",
    "print(\"----------------------------------------------------------------------\")\n",
    "print(\"TOP SPENDERS\")\n",
    "sorted_SN.head()"
   ]
  },
  {
   "cell_type": "markdown",
   "metadata": {},
   "source": [
    "## Most Profitable Items"
   ]
  },
  {
   "cell_type": "code",
   "execution_count": 22,
   "metadata": {
    "scrolled": true
   },
   "outputs": [
    {
     "name": "stdout",
     "output_type": "stream",
     "text": [
      "----------------------------------------------------------------------\n",
      "MOST POPULAR ITEMS\n"
     ]
    },
    {
     "data": {
      "text/html": [
       "<div>\n",
       "<style scoped>\n",
       "    .dataframe tbody tr th:only-of-type {\n",
       "        vertical-align: middle;\n",
       "    }\n",
       "\n",
       "    .dataframe tbody tr th {\n",
       "        vertical-align: top;\n",
       "    }\n",
       "\n",
       "    .dataframe thead th {\n",
       "        text-align: right;\n",
       "    }\n",
       "</style>\n",
       "<table border=\"1\" class=\"dataframe\">\n",
       "  <thead>\n",
       "    <tr style=\"text-align: right;\">\n",
       "      <th></th>\n",
       "      <th>Item Name</th>\n",
       "      <th>Purchase Count</th>\n",
       "      <th>Item Price ($)</th>\n",
       "      <th>Item Total Sales ($)</th>\n",
       "    </tr>\n",
       "    <tr>\n",
       "      <th>Item ID</th>\n",
       "      <th></th>\n",
       "      <th></th>\n",
       "      <th></th>\n",
       "      <th></th>\n",
       "    </tr>\n",
       "  </thead>\n",
       "  <tbody>\n",
       "    <tr>\n",
       "      <th>0</th>\n",
       "      <td>Splinter</td>\n",
       "      <td>5</td>\n",
       "      <td>4.83</td>\n",
       "      <td>24.15</td>\n",
       "    </tr>\n",
       "    <tr>\n",
       "      <th>28</th>\n",
       "      <td>Flux, Destroyer of Due Diligence</td>\n",
       "      <td>4</td>\n",
       "      <td>1.27</td>\n",
       "      <td>5.08</td>\n",
       "    </tr>\n",
       "    <tr>\n",
       "      <th>126</th>\n",
       "      <td>Exiled Mithril Longsword</td>\n",
       "      <td>4</td>\n",
       "      <td>1.55</td>\n",
       "      <td>6.20</td>\n",
       "    </tr>\n",
       "    <tr>\n",
       "      <th>155</th>\n",
       "      <td>War-Forged Gold Deflector</td>\n",
       "      <td>4</td>\n",
       "      <td>4.89</td>\n",
       "      <td>19.56</td>\n",
       "    </tr>\n",
       "    <tr>\n",
       "      <th>59</th>\n",
       "      <td>Lightning, Etcher of the King</td>\n",
       "      <td>3</td>\n",
       "      <td>3.47</td>\n",
       "      <td>10.41</td>\n",
       "    </tr>\n",
       "  </tbody>\n",
       "</table>\n",
       "</div>"
      ],
      "text/plain": [
       "                                Item Name  Purchase Count  Item Price ($)  \\\n",
       "Item ID                                                                     \n",
       "0                                Splinter               5            4.83   \n",
       "28       Flux, Destroyer of Due Diligence               4            1.27   \n",
       "126              Exiled Mithril Longsword               4            1.55   \n",
       "155             War-Forged Gold Deflector               4            4.89   \n",
       "59          Lightning, Etcher of the King               3            3.47   \n",
       "\n",
       "         Item Total Sales ($)  \n",
       "Item ID                        \n",
       "0                       24.15  \n",
       "28                       5.08  \n",
       "126                      6.20  \n",
       "155                     19.56  \n",
       "59                      10.41  "
      ]
     },
     "execution_count": 22,
     "metadata": {},
     "output_type": "execute_result"
    }
   ],
   "source": [
    "objid=df.groupby(\"Item ID\")\n",
    "\n",
    "\n",
    "count_in_objid=objid[\"Item ID\"].count()\n",
    "ID_count_table=pd.DataFrame({\"Purchase Count\":count_in_objid})\n",
    "\n",
    "averageprice_in_objid=round(objid[\"Price\"].mean(),2)\n",
    "ID_average_price_table=pd.DataFrame({\"Item Price ($)\":averageprice_in_objid})\n",
    "\n",
    "totalprice_in_objid=objid[\"Price\"].sum()\n",
    "Id_totalprice_table=pd.DataFrame({\"Item Total Sales ($)\":totalprice_in_objid})\n",
    "\n",
    "singleID_df = df.drop_duplicates(['Item ID'], keep ='last')\n",
    "\n",
    "reduced_singleID_df=singleID_df.loc[:,[\"Item ID\",\"Item Name\"]]\n",
    "\n",
    "\n",
    "ID_df=pd.merge(reduced_singleID_df,ID_count_table,left_index=True,right_index=True).merge(ID_average_price_table,\n",
    "               left_index=True,right_index=True).merge(Id_totalprice_table,left_index=True,right_index=True)\n",
    "\n",
    "\n",
    "indexed_ID_df=ID_df.set_index(\"Item ID\")\n",
    "\n",
    "sorted_ID=indexed_ID_df.sort_values(by=\"Purchase Count\",ascending=False)\n",
    "\n",
    "print(\"----------------------------------------------------------------------\")\n",
    "print(\"MOST POPULAR ITEMS\")\n",
    "sorted_ID.head()"
   ]
  },
  {
   "cell_type": "code",
   "execution_count": 23,
   "metadata": {},
   "outputs": [
    {
     "name": "stdout",
     "output_type": "stream",
     "text": [
      "----------------------------------------------------------------------\n",
      "MOST PROFITABLE ITEMS\n"
     ]
    },
    {
     "data": {
      "text/html": [
       "<div>\n",
       "<style scoped>\n",
       "    .dataframe tbody tr th:only-of-type {\n",
       "        vertical-align: middle;\n",
       "    }\n",
       "\n",
       "    .dataframe tbody tr th {\n",
       "        vertical-align: top;\n",
       "    }\n",
       "\n",
       "    .dataframe thead th {\n",
       "        text-align: right;\n",
       "    }\n",
       "</style>\n",
       "<table border=\"1\" class=\"dataframe\">\n",
       "  <thead>\n",
       "    <tr style=\"text-align: right;\">\n",
       "      <th></th>\n",
       "      <th>Item Name</th>\n",
       "      <th>Purchase Count</th>\n",
       "      <th>Item Price ($)</th>\n",
       "      <th>Item Total Sales ($)</th>\n",
       "    </tr>\n",
       "    <tr>\n",
       "      <th>Item ID</th>\n",
       "      <th></th>\n",
       "      <th></th>\n",
       "      <th></th>\n",
       "      <th></th>\n",
       "    </tr>\n",
       "  </thead>\n",
       "  <tbody>\n",
       "    <tr>\n",
       "      <th>0</th>\n",
       "      <td>Splinter</td>\n",
       "      <td>5</td>\n",
       "      <td>4.83</td>\n",
       "      <td>24.15</td>\n",
       "    </tr>\n",
       "    <tr>\n",
       "      <th>155</th>\n",
       "      <td>War-Forged Gold Deflector</td>\n",
       "      <td>4</td>\n",
       "      <td>4.89</td>\n",
       "      <td>19.56</td>\n",
       "    </tr>\n",
       "    <tr>\n",
       "      <th>59</th>\n",
       "      <td>Lightning, Etcher of the King</td>\n",
       "      <td>3</td>\n",
       "      <td>3.47</td>\n",
       "      <td>10.41</td>\n",
       "    </tr>\n",
       "    <tr>\n",
       "      <th>3</th>\n",
       "      <td>Phantomlight</td>\n",
       "      <td>3</td>\n",
       "      <td>3.27</td>\n",
       "      <td>9.81</td>\n",
       "    </tr>\n",
       "    <tr>\n",
       "      <th>132</th>\n",
       "      <td>Persuasion</td>\n",
       "      <td>2</td>\n",
       "      <td>4.10</td>\n",
       "      <td>8.20</td>\n",
       "    </tr>\n",
       "  </tbody>\n",
       "</table>\n",
       "</div>"
      ],
      "text/plain": [
       "                             Item Name  Purchase Count  Item Price ($)  \\\n",
       "Item ID                                                                  \n",
       "0                             Splinter               5            4.83   \n",
       "155          War-Forged Gold Deflector               4            4.89   \n",
       "59       Lightning, Etcher of the King               3            3.47   \n",
       "3                         Phantomlight               3            3.27   \n",
       "132                         Persuasion               2            4.10   \n",
       "\n",
       "         Item Total Sales ($)  \n",
       "Item ID                        \n",
       "0                       24.15  \n",
       "155                     19.56  \n",
       "59                      10.41  \n",
       "3                        9.81  \n",
       "132                      8.20  "
      ]
     },
     "execution_count": 23,
     "metadata": {},
     "output_type": "execute_result"
    }
   ],
   "source": [
    "sorted_ID=indexed_ID_df.sort_values(by=\"Item Total Sales ($)\",ascending=False)\n",
    "\n",
    "print(\"----------------------------------------------------------------------\")\n",
    "print(\"MOST PROFITABLE ITEMS\")\n",
    "sorted_ID.head()"
   ]
  },
  {
   "cell_type": "code",
   "execution_count": null,
   "metadata": {},
   "outputs": [],
   "source": []
  }
 ],
 "metadata": {
  "anaconda-cloud": {},
  "kernelspec": {
   "display_name": "Python 3",
   "language": "python",
   "name": "python3"
  },
  "language_info": {
   "codemirror_mode": {
    "name": "ipython",
    "version": 3
   },
   "file_extension": ".py",
   "mimetype": "text/x-python",
   "name": "python",
   "nbconvert_exporter": "python",
   "pygments_lexer": "ipython3",
   "version": "3.6.4"
  },
  "nteract": {
   "version": "0.8.4"
  },
  "varInspector": {
   "cols": {
    "lenName": 16,
    "lenType": 16,
    "lenVar": 40
   },
   "kernels_config": {
    "python": {
     "delete_cmd_postfix": "",
     "delete_cmd_prefix": "del ",
     "library": "var_list.py",
     "varRefreshCmd": "print(var_dic_list())"
    },
    "r": {
     "delete_cmd_postfix": ") ",
     "delete_cmd_prefix": "rm(",
     "library": "var_list.r",
     "varRefreshCmd": "cat(var_dic_list()) "
    }
   },
   "types_to_exclude": [
    "module",
    "function",
    "builtin_function_or_method",
    "instance",
    "_Feature"
   ],
   "window_display": false
  }
 },
 "nbformat": 4,
 "nbformat_minor": 1
}
